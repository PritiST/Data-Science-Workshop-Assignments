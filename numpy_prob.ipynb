{
 "cells": [
  {
   "cell_type": "code",
   "execution_count": 1,
   "id": "fa404e05-c67b-4a1b-b64e-0ac6e52a4d07",
   "metadata": {},
   "outputs": [],
   "source": [
    "import numpy as np\n"
   ]
  },
  {
   "cell_type": "code",
   "execution_count": 2,
   "id": "3019cdd5-5f94-42ce-bb7b-3df2fb60bb4a",
   "metadata": {},
   "outputs": [
    {
     "name": "stdout",
     "output_type": "stream",
     "text": [
      "2.86 ms ± 448 μs per loop (mean ± std. dev. of 7 runs, 100 loops each)\n"
     ]
    }
   ],
   "source": [
    "L=np.arange(1000000)\n",
    "M=list(range(1000000))\n",
    "%timeit L1=L*2"
   ]
  },
  {
   "cell_type": "code",
   "execution_count": 4,
   "id": "812345f6-ffda-4aa9-9a2b-1e92b7b85454",
   "metadata": {},
   "outputs": [
    {
     "name": "stdout",
     "output_type": "stream",
     "text": [
      "82.5 ms ± 8.54 ms per loop (mean ± std. dev. of 7 runs, 10 loops each)\n"
     ]
    }
   ],
   "source": [
    "%timeit M1=[x*2 for x in M]"
   ]
  },
  {
   "cell_type": "code",
   "execution_count": 5,
   "id": "0f50a2a7-e175-4d6f-820e-77d3e6cced23",
   "metadata": {},
   "outputs": [
    {
     "name": "stdout",
     "output_type": "stream",
     "text": [
      "0:00:00.071195\n"
     ]
    }
   ],
   "source": [
    "from datetime import datetime as dt\n",
    "now1=dt.now()\n",
    "M1=[x*2 for x in M]\n",
    "now2=dt.now()\n",
    "print(now2-now1)"
   ]
  },
  {
   "cell_type": "code",
   "execution_count": 6,
   "id": "5b7bfd17-74c5-4de6-852b-fb3340704c1f",
   "metadata": {},
   "outputs": [
    {
     "name": "stdout",
     "output_type": "stream",
     "text": [
      "[ 1.5 -0.1  3. ] and its type is <class 'numpy.ndarray'>\n"
     ]
    }
   ],
   "source": [
    "data=np.array([1.5,-0.1,3])\n",
    "print(data,\"and its type is\",type(data))"
   ]
  },
  {
   "cell_type": "code",
   "execution_count": 8,
   "id": "7b471c19-bb8a-4a14-8721-ac00cca6e645",
   "metadata": {},
   "outputs": [
    {
     "name": "stdout",
     "output_type": "stream",
     "text": [
      "['hello' '1']\n"
     ]
    }
   ],
   "source": [
    "#difference datatype converted to same\n",
    "data=np.array(['hello',1])\n",
    "print(data)"
   ]
  },
  {
   "cell_type": "code",
   "execution_count": 12,
   "id": "605fcbe0-436f-4d74-a005-d0972d71b685",
   "metadata": {},
   "outputs": [
    {
     "name": "stdout",
     "output_type": "stream",
     "text": [
      "[['1' '2' '6.5']\n",
      " ['hello' '4.7' 'iter']]\n"
     ]
    }
   ],
   "source": [
    "data=np.array([[1,2,6.5],['hello',4.7,'iter']])\n",
    "print(data)"
   ]
  },
  {
   "cell_type": "code",
   "execution_count": 13,
   "id": "40a6168a-b592-480d-bf13-1b5b2d457f35",
   "metadata": {},
   "outputs": [
    {
     "data": {
      "text/plain": [
       "2"
      ]
     },
     "execution_count": 13,
     "metadata": {},
     "output_type": "execute_result"
    }
   ],
   "source": [
    "#number of dimesnsion of an array\n",
    "data.ndim"
   ]
  },
  {
   "cell_type": "code",
   "execution_count": 14,
   "id": "77b21382-3991-4666-af41-902d2dc993ba",
   "metadata": {},
   "outputs": [
    {
     "data": {
      "text/plain": [
       "(2, 3)"
      ]
     },
     "execution_count": 14,
     "metadata": {},
     "output_type": "execute_result"
    }
   ],
   "source": [
    "#number of element in each dimension\n",
    "data.shape"
   ]
  },
  {
   "cell_type": "code",
   "execution_count": 16,
   "id": "363a5dd4-649b-48bc-9e04-e1c1a1f79597",
   "metadata": {},
   "outputs": [
    {
     "data": {
      "text/plain": [
       "array([0., 0., 0., 0., 0., 0., 0., 0., 0., 0.])"
      ]
     },
     "execution_count": 16,
     "metadata": {},
     "output_type": "execute_result"
    }
   ],
   "source": [
    "#create arrays of o's and 1's\n",
    "x=np.zeros(10)\n",
    "x"
   ]
  },
  {
   "cell_type": "code",
   "execution_count": 17,
   "id": "8bc26194-8258-4ace-8c4e-5c3bdaaddc71",
   "metadata": {},
   "outputs": [
    {
     "data": {
      "text/plain": [
       "array([1., 1., 1., 1., 1., 1., 1., 1., 1., 1.])"
      ]
     },
     "execution_count": 17,
     "metadata": {},
     "output_type": "execute_result"
    }
   ],
   "source": [
    "x=np.ones(10)\n",
    "x"
   ]
  },
  {
   "cell_type": "code",
   "execution_count": 20,
   "id": "aff5cf08-a349-4d40-90f0-c324b5cdb86f",
   "metadata": {},
   "outputs": [
    {
     "data": {
      "text/plain": [
       "array([[0., 0., 0., 0., 0., 0.],\n",
       "       [0., 0., 0., 0., 0., 0.],\n",
       "       [0., 0., 0., 0., 0., 0.]])"
      ]
     },
     "execution_count": 20,
     "metadata": {},
     "output_type": "execute_result"
    }
   ],
   "source": [
    "x=np.zeros((3,6))\n",
    "x"
   ]
  },
  {
   "cell_type": "code",
   "execution_count": 22,
   "id": "07f9683a-992e-466d-bbe9-02a1342081fc",
   "metadata": {},
   "outputs": [
    {
     "data": {
      "text/plain": [
       "array([[[1.45331575e-311, 3.16202013e-322],\n",
       "        [0.00000000e+000, 0.00000000e+000],\n",
       "        [1.11260619e-306, 1.77605619e+160]],\n",
       "\n",
       "       [[6.11385377e+169, 5.19414792e+170],\n",
       "        [3.37673742e-057, 2.62149888e+180],\n",
       "        [1.36900562e-071, 2.49172993e+180]]])"
      ]
     },
     "execution_count": 22,
     "metadata": {},
     "output_type": "execute_result"
    }
   ],
   "source": [
    "#create array without initializing its value\n",
    "np.empty((2,3,2))"
   ]
  },
  {
   "cell_type": "code",
   "execution_count": 23,
   "id": "529ff68f-85d4-4f51-b7c1-2392622e2b72",
   "metadata": {},
   "outputs": [
    {
     "data": {
      "text/plain": [
       "array([0, 1, 2, 3, 4])"
      ]
     },
     "execution_count": 23,
     "metadata": {},
     "output_type": "execute_result"
    }
   ],
   "source": [
    "#returns ndaray instead of list\n",
    "np.arange(5)"
   ]
  },
  {
   "cell_type": "code",
   "execution_count": 24,
   "id": "39b3f32e-584d-4175-bb87-810838bcc344",
   "metadata": {},
   "outputs": [
    {
     "data": {
      "text/plain": [
       "array([10, 15])"
      ]
     },
     "execution_count": 24,
     "metadata": {},
     "output_type": "execute_result"
    }
   ],
   "source": [
    "np.arange(10,20,5)"
   ]
  },
  {
   "cell_type": "code",
   "execution_count": 25,
   "id": "495ed129-b46d-4827-9db9-3816d2759f8f",
   "metadata": {},
   "outputs": [
    {
     "data": {
      "text/plain": [
       "array([10. , 12.5, 15. , 17.5, 20. ])"
      ]
     },
     "execution_count": 25,
     "metadata": {},
     "output_type": "execute_result"
    }
   ],
   "source": [
    "#create an array of evenly spaced numbers within a specified range\n",
    "np.linspace(10,20,5)"
   ]
  },
  {
   "cell_type": "code",
   "execution_count": 26,
   "id": "9707e140-235c-4b70-9777-cad186aa243d",
   "metadata": {},
   "outputs": [
    {
     "data": {
      "text/plain": [
       "array([[10, 10, 10],\n",
       "       [10, 10, 10]])"
      ]
     },
     "execution_count": 26,
     "metadata": {},
     "output_type": "execute_result"
    }
   ],
   "source": [
    "#numpy.full(shape, fill value)\n",
    "np.full((2,3),10)"
   ]
  },
  {
   "cell_type": "code",
   "execution_count": 27,
   "id": "8c646f40-be93-4805-8e70-d9021867187a",
   "metadata": {},
   "outputs": [
    {
     "data": {
      "text/plain": [
       "array([[1., 0., 0., 0.],\n",
       "       [0., 1., 0., 0.],\n",
       "       [0., 0., 1., 0.],\n",
       "       [0., 0., 0., 1.]])"
      ]
     },
     "execution_count": 27,
     "metadata": {},
     "output_type": "execute_result"
    }
   ],
   "source": [
    "#eye/identity(1's on diagonal and o's at rest)\n",
    "s=np.identity(4)\n",
    "s"
   ]
  },
  {
   "cell_type": "code",
   "execution_count": 28,
   "id": "28e31ec5-197b-4649-a4bf-759883f404d7",
   "metadata": {},
   "outputs": [
    {
     "data": {
      "text/plain": [
       "array([[1., 0., 0., 0.],\n",
       "       [0., 1., 0., 0.],\n",
       "       [0., 0., 1., 0.],\n",
       "       [0., 0., 0., 1.]])"
      ]
     },
     "execution_count": 28,
     "metadata": {},
     "output_type": "execute_result"
    }
   ],
   "source": [
    "s=np.eye(4)\n",
    "s"
   ]
  },
  {
   "cell_type": "code",
   "execution_count": 33,
   "id": "c8162f98-442c-4ae1-bda4-b9f54a161ed6",
   "metadata": {},
   "outputs": [
    {
     "data": {
      "text/plain": [
       "array([[0., 1., 0., 0.],\n",
       "       [0., 0., 1., 0.],\n",
       "       [0., 0., 0., 1.],\n",
       "       [0., 0., 0., 0.]])"
      ]
     },
     "execution_count": 33,
     "metadata": {},
     "output_type": "execute_result"
    }
   ],
   "source": [
    "s=np.eye(4,k=1)\n",
    "s"
   ]
  },
  {
   "cell_type": "code",
   "execution_count": 34,
   "id": "30fab587-1a14-4975-bfc3-619e432753e2",
   "metadata": {},
   "outputs": [
    {
     "name": "stdout",
     "output_type": "stream",
     "text": [
      "s [1. 2. 3.] \n",
      " t [1 2 3]\n"
     ]
    }
   ],
   "source": [
    "#converting datatype\n",
    "s=np.array([1,2,3],dtype=np.float64)\n",
    "t=np.array([1,2,3],dtype=np.int32)\n",
    "print('s',s,'\\n','t',t)"
   ]
  },
  {
   "cell_type": "code",
   "execution_count": 37,
   "id": "3de532e0-5afc-41f4-937a-baa7acda41ce",
   "metadata": {},
   "outputs": [
    {
     "name": "stdout",
     "output_type": "stream",
     "text": [
      "float64\n",
      "int32\n"
     ]
    }
   ],
   "source": [
    "print(s.dtype)\n",
    "print(t.dtype)"
   ]
  },
  {
   "cell_type": "code",
   "execution_count": 38,
   "id": "e89afa15-0159-408e-b5c3-fce0c8c5a116",
   "metadata": {},
   "outputs": [
    {
     "name": "stdout",
     "output_type": "stream",
     "text": [
      "[1 2 3 4 5] int64\n"
     ]
    }
   ],
   "source": [
    "s=np.array([1,2,3,4,5])\n",
    "print(s,s.dtype)"
   ]
  },
  {
   "cell_type": "code",
   "execution_count": 40,
   "id": "780c706c-fbc5-467f-ba0f-991b66f160c8",
   "metadata": {},
   "outputs": [
    {
     "name": "stdout",
     "output_type": "stream",
     "text": [
      "[1. 2. 3. 4. 5.] float64\n"
     ]
    }
   ],
   "source": [
    "s=s.astype(np.float64)\n",
    "print(s,s.dtype)"
   ]
  },
  {
   "cell_type": "code",
   "execution_count": 42,
   "id": "1a3868ee-9409-44f5-9f78-1e040447f217",
   "metadata": {},
   "outputs": [
    {
     "data": {
      "text/plain": [
       "array([[1, 2, 3],\n",
       "       [4, 5, 6]])"
      ]
     },
     "execution_count": 42,
     "metadata": {},
     "output_type": "execute_result"
    }
   ],
   "source": [
    "#arithmetic operation\n",
    "s=np.array([[1,2,3],[4,5,6]]);s\n"
   ]
  },
  {
   "cell_type": "code",
   "execution_count": 43,
   "id": "4146a992-e4f8-48dd-9adc-f71a5a579d6c",
   "metadata": {},
   "outputs": [
    {
     "data": {
      "text/plain": [
       "array([[1, 1, 1],\n",
       "       [2, 2, 2]])"
      ]
     },
     "execution_count": 43,
     "metadata": {},
     "output_type": "execute_result"
    }
   ],
   "source": [
    "t=np.array([[1,1,1],[2,2,2]]);t"
   ]
  },
  {
   "cell_type": "code",
   "execution_count": 44,
   "id": "24a06f6a-74e3-485f-b1f1-4bce9f43e8a7",
   "metadata": {},
   "outputs": [
    {
     "data": {
      "text/plain": [
       "array([[2, 3, 4],\n",
       "       [6, 7, 8]])"
      ]
     },
     "execution_count": 44,
     "metadata": {},
     "output_type": "execute_result"
    }
   ],
   "source": [
    "s+t"
   ]
  },
  {
   "cell_type": "code",
   "execution_count": 45,
   "id": "a11db6bd-d29a-4770-8e08-07e20f944f81",
   "metadata": {},
   "outputs": [
    {
     "data": {
      "text/plain": [
       "array([[ 1,  2,  3],\n",
       "       [ 8, 10, 12]])"
      ]
     },
     "execution_count": 45,
     "metadata": {},
     "output_type": "execute_result"
    }
   ],
   "source": [
    "s*t"
   ]
  },
  {
   "cell_type": "code",
   "execution_count": 46,
   "id": "21d08b74-9349-4974-8828-4f12c0f4744c",
   "metadata": {},
   "outputs": [
    {
     "data": {
      "text/plain": [
       "array([[ 7,  7,  7],\n",
       "       [14, 14, 14]])"
      ]
     },
     "execution_count": 46,
     "metadata": {},
     "output_type": "execute_result"
    }
   ],
   "source": [
    "7*t"
   ]
  },
  {
   "cell_type": "code",
   "execution_count": 47,
   "id": "940891a9-6116-4d20-8eae-352b76cfe38a",
   "metadata": {},
   "outputs": [
    {
     "data": {
      "text/plain": [
       "array([[1, 1, 1],\n",
       "       [4, 4, 4]])"
      ]
     },
     "execution_count": 47,
     "metadata": {},
     "output_type": "execute_result"
    }
   ],
   "source": [
    "t**2"
   ]
  },
  {
   "cell_type": "code",
   "execution_count": 48,
   "id": "89732c7e-667e-4fd8-87f4-786e173155a4",
   "metadata": {},
   "outputs": [
    {
     "data": {
      "text/plain": [
       "array([[7. , 7. , 7. ],\n",
       "       [3.5, 3.5, 3.5]])"
      ]
     },
     "execution_count": 48,
     "metadata": {},
     "output_type": "execute_result"
    }
   ],
   "source": [
    "7/t"
   ]
  },
  {
   "cell_type": "code",
   "execution_count": 49,
   "id": "9699aaec-40b2-4d78-9032-91c751abd94d",
   "metadata": {},
   "outputs": [
    {
     "data": {
      "text/plain": [
       "array([[False,  True,  True],\n",
       "       [ True,  True,  True]])"
      ]
     },
     "execution_count": 49,
     "metadata": {},
     "output_type": "execute_result"
    }
   ],
   "source": [
    "#comparison between arrays give boolean arrays\n",
    "s>t"
   ]
  },
  {
   "cell_type": "code",
   "execution_count": 51,
   "id": "4e0f527e-28cc-4876-9478-1c4f6f5f6b63",
   "metadata": {},
   "outputs": [
    {
     "name": "stdout",
     "output_type": "stream",
     "text": [
      "Original array with float data type:\n",
      "[1.1 2.5 3.9 4.7]\n",
      "\n",
      "Array converted to integer data type:\n",
      "[1 2 3 4]\n"
     ]
    }
   ],
   "source": [
    "# Create an ndarray object with float data type. Convert this to integerdata type. Observe the changes in the dat\n",
    "\n",
    "# Create an ndarray with float data type\n",
    "a = np.array([1.1, 2.5, 3.9, 4.7], dtype=float)\n",
    "print(a)\n",
    "\n",
    "# Convert the float array to integer data type\n",
    "b = a.astype(int)\n",
    "print(b)"
   ]
  },
  {
   "cell_type": "code",
   "execution_count": 52,
   "id": "a01b99cc-e134-41d5-bb1f-a89c55478290",
   "metadata": {},
   "outputs": [
    {
     "name": "stdout",
     "output_type": "stream",
     "text": [
      "Identity Matrix:\n",
      "[[1. 0. 0. 0.]\n",
      " [0. 1. 0. 0.]\n",
      " [0. 0. 1. 0.]\n",
      " [0. 0. 0. 1.]]\n",
      "\n",
      "Matrix with Sub-diagonal and Super-diagonal elements as 1:\n",
      "[[0. 1. 0. 0.]\n",
      " [1. 0. 1. 0.]\n",
      " [0. 1. 0. 1.]\n",
      " [0. 0. 1. 0.]]\n",
      "\n",
      "Comparison of elements (True if equal):\n",
      "[[False False  True  True]\n",
      " [False False False  True]\n",
      " [ True False False False]\n",
      " [ True  True False False]]\n"
     ]
    }
   ],
   "source": [
    "# Create the identity matrix of order 4\n",
    "identity_matrix = np.eye(4)\n",
    "print(\"Identity Matrix:\")\n",
    "print(identity_matrix)\n",
    "\n",
    "# Create the matrix with sub-diagonal and super-diagonal elements as 1\n",
    "matrix_with_diagonals = np.eye(4, k=1) + np.eye(4, k=-1)\n",
    "print(\"\\nMatrix with Sub-diagonal and Super-diagonal elements as 1:\")\n",
    "print(matrix_with_diagonals)\n",
    "\n",
    "# Compare the elements of the two matrices\n",
    "comparison = identity_matrix == matrix_with_diagonals\n",
    "print(\"\\nComparison of elements (True if equal):\")\n",
    "print(comparison)"
   ]
  },
  {
   "cell_type": "code",
   "execution_count": 2,
   "id": "60ccb3ff-c8c2-41c6-9176-8711712b7e6f",
   "metadata": {},
   "outputs": [
    {
     "data": {
      "text/plain": [
       "array([0, 1, 2, 3, 4, 5, 6, 7, 8, 9])"
      ]
     },
     "execution_count": 2,
     "metadata": {},
     "output_type": "execute_result"
    }
   ],
   "source": [
    "#indexing and slicing\n",
    "import numpy as np\n",
    "arr=np.arange(10)\n",
    "arr"
   ]
  },
  {
   "cell_type": "code",
   "execution_count": 3,
   "id": "c533590b-1ce2-40ae-be2b-49d9e2bb8d9b",
   "metadata": {},
   "outputs": [
    {
     "name": "stdout",
     "output_type": "stream",
     "text": [
      "5\n"
     ]
    }
   ],
   "source": [
    "print (arr[5])"
   ]
  },
  {
   "cell_type": "code",
   "execution_count": 4,
   "id": "fde08f17-9a22-4b38-8fa2-5691549c7e37",
   "metadata": {},
   "outputs": [
    {
     "name": "stdout",
     "output_type": "stream",
     "text": [
      "[5 6 7]\n"
     ]
    }
   ],
   "source": [
    "print(arr[5:8])"
   ]
  },
  {
   "cell_type": "code",
   "execution_count": 5,
   "id": "cf8623e6-b69f-4874-a5fd-30d8cb693bcd",
   "metadata": {},
   "outputs": [
    {
     "data": {
      "text/plain": [
       "array([0, 1, 2, 3, 4, 6, 6, 7, 8, 9])"
      ]
     },
     "execution_count": 5,
     "metadata": {},
     "output_type": "execute_result"
    }
   ],
   "source": [
    "arr[5]=6\n",
    "arr"
   ]
  },
  {
   "cell_type": "code",
   "execution_count": 6,
   "id": "479f1b47-b354-4557-8f87-e364d6b7e3c3",
   "metadata": {},
   "outputs": [
    {
     "data": {
      "text/plain": [
       "array([ 0,  1,  2,  3,  4, 10, 10, 10,  8,  9])"
      ]
     },
     "execution_count": 6,
     "metadata": {},
     "output_type": "execute_result"
    }
   ],
   "source": [
    "arr[5:8]=10\n",
    "arr"
   ]
  },
  {
   "cell_type": "code",
   "execution_count": 7,
   "id": "5517b9a8-25cc-4717-a6ad-edcf885d9015",
   "metadata": {},
   "outputs": [
    {
     "data": {
      "text/plain": [
       "array([1000,   20, 1000,   40, 1000,   60, 1000,   80])"
      ]
     },
     "execution_count": 7,
     "metadata": {},
     "output_type": "execute_result"
    }
   ],
   "source": [
    "arr = np.array([10, 20, 30, 40, 50, 60, 70, 80])\n",
    "arr[::2]=1000\n",
    "arr"
   ]
  },
  {
   "cell_type": "code",
   "execution_count": 8,
   "id": "91f0e64d-04d1-4237-93f9-f7c59924d2e6",
   "metadata": {},
   "outputs": [
    {
     "name": "stdout",
     "output_type": "stream",
     "text": [
      "[  80 1000   60 1000   40 1000   20 1000]\n"
     ]
    }
   ],
   "source": [
    "arr = np.array([1000, 20, 1000, 40, 1000, 60, 1000, 80])\n",
    "rev=arr[::-1]\n",
    "print(rev)"
   ]
  },
  {
   "cell_type": "code",
   "execution_count": 9,
   "id": "b61fc125-4ffd-4598-b4af-138adf33e25a",
   "metadata": {},
   "outputs": [
    {
     "data": {
      "text/plain": [
       "array([1, 2])"
      ]
     },
     "execution_count": 9,
     "metadata": {},
     "output_type": "execute_result"
    }
   ],
   "source": [
    "arr=np.array([1,2,3,4,5])\n",
    "a=arr[0:2].copy()\n",
    "arr[0:3]=5\n",
    "a"
   ]
  },
  {
   "cell_type": "code",
   "execution_count": 10,
   "id": "96d36415-445d-4ea7-a95a-a102de79f62e",
   "metadata": {},
   "outputs": [
    {
     "name": "stdout",
     "output_type": "stream",
     "text": [
      "1.2\n",
      "1.2\n"
     ]
    }
   ],
   "source": [
    "b=np.array([[0,0.1,0.2,0.3,0.4],\n",
    "           [1,1.1,1.2,1.3,1.4],\n",
    "           [2,2.1,2.2,2.3,2.4],\n",
    "           [3,3.1,3.2,3.3,3.4],\n",
    "           [4,4.1,4.2,4.3,4.4]])\n",
    "print(b[1,2])\n",
    "print(b[1][2])"
   ]
  },
  {
   "cell_type": "code",
   "execution_count": 11,
   "id": "b557ffb0-1f36-4200-8c6c-27ad79cddc61",
   "metadata": {},
   "outputs": [
    {
     "data": {
      "text/plain": [
       "array([[0. , 0.1, 0.2, 0.3, 0.4],\n",
       "       [1. , 1.1, 1.2, 1.3, 1.4]])"
      ]
     },
     "execution_count": 11,
     "metadata": {},
     "output_type": "execute_result"
    }
   ],
   "source": [
    "b[0:2]"
   ]
  },
  {
   "cell_type": "code",
   "execution_count": 12,
   "id": "36387564-1fb0-4aa7-a8a7-d4436f79836d",
   "metadata": {},
   "outputs": [
    {
     "data": {
      "text/plain": [
       "array([0.2, 1.2])"
      ]
     },
     "execution_count": 12,
     "metadata": {},
     "output_type": "execute_result"
    }
   ],
   "source": [
    "b[0:2,2]"
   ]
  },
  {
   "cell_type": "code",
   "execution_count": 13,
   "id": "1ab93464-37d6-4c3a-8f82-e3af5c8f55b6",
   "metadata": {},
   "outputs": [
    {
     "data": {
      "text/plain": [
       "array([[0. , 0.1, 0.2, 0.3, 0.4],\n",
       "       [1. , 1.1, 1.2, 1.3, 1.4]])"
      ]
     },
     "execution_count": 13,
     "metadata": {},
     "output_type": "execute_result"
    }
   ],
   "source": [
    "b[0:2]"
   ]
  },
  {
   "cell_type": "code",
   "execution_count": 14,
   "id": "cfe3dff4-c49d-4114-a4c5-dc1b9bd083e5",
   "metadata": {},
   "outputs": [
    {
     "data": {
      "text/plain": [
       "array([[0. , 0.1],\n",
       "       [1. , 1.1],\n",
       "       [2. , 2.1],\n",
       "       [3. , 3.1],\n",
       "       [4. , 4.1]])"
      ]
     },
     "execution_count": 14,
     "metadata": {},
     "output_type": "execute_result"
    }
   ],
   "source": [
    "b[:,0:2]"
   ]
  },
  {
   "cell_type": "code",
   "execution_count": 15,
   "id": "7dd7244d-368d-4ada-ae59-a25838a86472",
   "metadata": {},
   "outputs": [
    {
     "data": {
      "text/plain": [
       "array([[0. , 0.1, 0.2, 0.3, 0.4],\n",
       "       [1. , 1.1, 1.2, 1.3, 1.4],\n",
       "       [2. , 2.1, 2.2, 2.3, 2.4],\n",
       "       [3. , 3.1, 3.2, 3.3, 3.4],\n",
       "       [4. , 4.1, 4.2, 4.3, 4.4]])"
      ]
     },
     "execution_count": 15,
     "metadata": {},
     "output_type": "execute_result"
    }
   ],
   "source": [
    "b[:,:]"
   ]
  },
  {
   "cell_type": "code",
   "execution_count": 16,
   "id": "9d41b69e-8eed-42d7-9272-f9a54f88f68a",
   "metadata": {},
   "outputs": [
    {
     "data": {
      "text/plain": [
       "array([1. , 1.1])"
      ]
     },
     "execution_count": 16,
     "metadata": {},
     "output_type": "execute_result"
    }
   ],
   "source": [
    "b[1][0:2]"
   ]
  },
  {
   "cell_type": "code",
   "execution_count": 17,
   "id": "c681599d-7f2a-420c-bcac-007bed5d9a66",
   "metadata": {},
   "outputs": [
    {
     "data": {
      "text/plain": [
       "array([[17. , 17. , 17. , 17. , 17. ],\n",
       "       [ 1. ,  1.1,  1.2,  1.3,  1.4],\n",
       "       [ 2. ,  2.1,  2.2,  2.3,  2.4],\n",
       "       [ 3. ,  3.1,  3.2,  3.3,  3.4],\n",
       "       [ 4. ,  4.1,  4.2,  4.3,  4.4]])"
      ]
     },
     "execution_count": 17,
     "metadata": {},
     "output_type": "execute_result"
    }
   ],
   "source": [
    "b[0]=17\n",
    "b"
   ]
  },
  {
   "cell_type": "code",
   "execution_count": 18,
   "id": "2e587310-544d-4057-b51f-430b6132ccbd",
   "metadata": {},
   "outputs": [
    {
     "data": {
      "text/plain": [
       "array([[ 7. ,  7. ,  7. , 17. , 17. ],\n",
       "       [ 1. ,  1.1,  1.2,  1.3,  1.4],\n",
       "       [ 2. ,  2.1,  2.2,  2.3,  2.4],\n",
       "       [ 3. ,  3.1,  3.2,  3.3,  3.4],\n",
       "       [ 4. ,  4.1,  4.2,  4.3,  4.4]])"
      ]
     },
     "execution_count": 18,
     "metadata": {},
     "output_type": "execute_result"
    }
   ],
   "source": [
    "b[0][0:3]=7\n",
    "b"
   ]
  },
  {
   "cell_type": "code",
   "execution_count": 19,
   "id": "fa2921cf-a5d9-4aef-9672-4381fb2955c6",
   "metadata": {},
   "outputs": [
    {
     "data": {
      "text/plain": [
       "array([[ 7. ,  7. ,  7. , 90. , 17. ],\n",
       "       [ 1. ,  1.1,  1.2,  1.3,  1.4],\n",
       "       [ 2. ,  2.1,  2.2,  2.3,  2.4],\n",
       "       [ 3. ,  3.1,  3.2,  3.3,  3.4],\n",
       "       [ 4. ,  4.1,  4.2,  4.3,  4.4]])"
      ]
     },
     "execution_count": 19,
     "metadata": {},
     "output_type": "execute_result"
    }
   ],
   "source": [
    "b[0,3]=90\n",
    "b"
   ]
  },
  {
   "cell_type": "code",
   "execution_count": 20,
   "id": "625f5969-06da-4d46-899e-9b5a97523c81",
   "metadata": {},
   "outputs": [
    {
     "data": {
      "text/plain": [
       "array([[ 7. ,  7. ,  7. , 90. , 90. ],\n",
       "       [ 1. ,  1.1,  1.2,  1.3,  1.4],\n",
       "       [ 2. ,  2.1,  2.2,  2.3,  2.4],\n",
       "       [ 3. ,  3.1,  3.2,  3.3,  3.4],\n",
       "       [ 4. ,  4.1,  4.2,  4.3,  4.4]])"
      ]
     },
     "execution_count": 20,
     "metadata": {},
     "output_type": "execute_result"
    }
   ],
   "source": [
    "b[0,4]=90\n",
    "b"
   ]
  },
  {
   "cell_type": "code",
   "execution_count": 21,
   "id": "f0c92770-fb88-4a47-97db-381d8e7438e8",
   "metadata": {},
   "outputs": [
    {
     "data": {
      "text/plain": [
       "array([ True, False, False,  True,  True])"
      ]
     },
     "execution_count": 21,
     "metadata": {},
     "output_type": "execute_result"
    }
   ],
   "source": [
    "names=np.array([\"a\",\"b\",\"c\",\"a\",\"a\"])\n",
    "names==\"a\""
   ]
  },
  {
   "cell_type": "code",
   "execution_count": 22,
   "id": "b05d75a0-2af6-446f-a17f-5e163a2f08be",
   "metadata": {},
   "outputs": [
    {
     "data": {
      "text/plain": [
       "array([1, 4, 5])"
      ]
     },
     "execution_count": 22,
     "metadata": {},
     "output_type": "execute_result"
    }
   ],
   "source": [
    "numbers=np.array([1,2,3,4,5])\n",
    "numbers[names==\"a\"]"
   ]
  },
  {
   "cell_type": "code",
   "execution_count": 23,
   "id": "9d6e1a1a-f941-4aa9-89e7-a692c0c9c4fa",
   "metadata": {},
   "outputs": [
    {
     "data": {
      "text/plain": [
       "array([False,  True,  True, False, False])"
      ]
     },
     "execution_count": 23,
     "metadata": {},
     "output_type": "execute_result"
    }
   ],
   "source": [
    "names=np.array([\"a\",\"b\",\"c\",\"a\",\"a\"])\n",
    "names!=\"a\"\n"
   ]
  },
  {
   "cell_type": "code",
   "execution_count": 24,
   "id": "ac04e34c-8219-4455-8a4f-c267f3f0222c",
   "metadata": {},
   "outputs": [
    {
     "data": {
      "text/plain": [
       "array([2, 3])"
      ]
     },
     "execution_count": 24,
     "metadata": {},
     "output_type": "execute_result"
    }
   ],
   "source": [
    "numbers=np.array([1,2,3,4,5])\n",
    "numbers[names!=\"a\"]"
   ]
  },
  {
   "cell_type": "code",
   "execution_count": 25,
   "id": "98e58b93-a0bd-4a94-8cee-ddd9a6e77ed3",
   "metadata": {},
   "outputs": [
    {
     "data": {
      "text/plain": [
       "array([2, 3])"
      ]
     },
     "execution_count": 25,
     "metadata": {},
     "output_type": "execute_result"
    }
   ],
   "source": [
    "names=np.array([\"a\",\"b\",\"c\",\"a\",\"a\"])\n",
    "reg=np.array([1,2,3,4,5])\n",
    "cond=(names==\"b\")|(names==\"c\")\n",
    "reg[cond]"
   ]
  },
  {
   "cell_type": "code",
   "execution_count": 26,
   "id": "cea8b7d9-8bd9-4311-af38-a52786a963e5",
   "metadata": {},
   "outputs": [
    {
     "data": {
      "text/plain": [
       "array([[1, 2, 3],\n",
       "       [7, 3, 4]])"
      ]
     },
     "execution_count": 26,
     "metadata": {},
     "output_type": "execute_result"
    }
   ],
   "source": [
    "#reshaping array\n",
    "a=np.array([[1,2,3],[7,3,4]])\n",
    "a"
   ]
  },
  {
   "cell_type": "code",
   "execution_count": 27,
   "id": "3f0b8c3f-1ab3-41fb-94fd-0e60759ccf0f",
   "metadata": {},
   "outputs": [
    {
     "data": {
      "text/plain": [
       "array([1, 2, 3, 7, 3, 4])"
      ]
     },
     "execution_count": 27,
     "metadata": {},
     "output_type": "execute_result"
    }
   ],
   "source": [
    "a.ravel()"
   ]
  },
  {
   "cell_type": "code",
   "execution_count": 28,
   "id": "7d492ed8-122f-45dc-9feb-778d591fe719",
   "metadata": {},
   "outputs": [
    {
     "data": {
      "text/plain": [
       "array([[1, 2],\n",
       "       [3, 7],\n",
       "       [3, 4]])"
      ]
     },
     "execution_count": 28,
     "metadata": {},
     "output_type": "execute_result"
    }
   ],
   "source": [
    "a.reshape(3,2)"
   ]
  },
  {
   "cell_type": "code",
   "execution_count": 29,
   "id": "3d4ff212-bf3c-46a8-9f8b-fdbb5f51bcca",
   "metadata": {},
   "outputs": [
    {
     "data": {
      "text/plain": [
       "array([[1, 7],\n",
       "       [2, 3],\n",
       "       [3, 4]])"
      ]
     },
     "execution_count": 29,
     "metadata": {},
     "output_type": "execute_result"
    }
   ],
   "source": [
    "a.T"
   ]
  },
  {
   "cell_type": "code",
   "execution_count": 30,
   "id": "4c709c16-2b0c-42f6-a751-7f9a1fae9ca2",
   "metadata": {},
   "outputs": [
    {
     "data": {
      "text/plain": [
       "array([200, 300, 600, 700])"
      ]
     },
     "execution_count": 30,
     "metadata": {},
     "output_type": "execute_result"
    }
   ],
   "source": [
    "#fancy indexing\n",
    "a=np.array([100,200,300,400,500,600,700])\n",
    "selected=a[[1,2,5,6]]\n",
    "selected"
   ]
  },
  {
   "cell_type": "code",
   "execution_count": 31,
   "id": "fc920c8c-3bae-4932-9b0b-0219df928922",
   "metadata": {},
   "outputs": [
    {
     "data": {
      "text/plain": [
       "array([[0., 0., 0., 0.],\n",
       "       [1., 1., 1., 1.],\n",
       "       [2., 2., 2., 2.],\n",
       "       [3., 3., 3., 3.],\n",
       "       [4., 4., 4., 4.],\n",
       "       [5., 5., 5., 5.],\n",
       "       [6., 6., 6., 6.],\n",
       "       [7., 7., 7., 7.]])"
      ]
     },
     "execution_count": 31,
     "metadata": {},
     "output_type": "execute_result"
    }
   ],
   "source": [
    "a=np.zeros((8,4))\n",
    "for i in range(8):\n",
    "    a[i]=i\n",
    "a"
   ]
  },
  {
   "cell_type": "code",
   "execution_count": 32,
   "id": "4db34f91-bf69-4c6d-8535-bc223ecc17bf",
   "metadata": {},
   "outputs": [
    {
     "data": {
      "text/plain": [
       "array([[4., 4., 4., 4.],\n",
       "       [3., 3., 3., 3.],\n",
       "       [0., 0., 0., 0.],\n",
       "       [6., 6., 6., 6.]])"
      ]
     },
     "execution_count": 32,
     "metadata": {},
     "output_type": "execute_result"
    }
   ],
   "source": [
    "a[[4,3,0,6]]"
   ]
  },
  {
   "cell_type": "code",
   "execution_count": 33,
   "id": "7f55d4a2-66a8-415b-abba-005f4e58c2ac",
   "metadata": {},
   "outputs": [
    {
     "data": {
      "text/plain": [
       "array([[5., 5., 5., 5.],\n",
       "       [3., 3., 3., 3.],\n",
       "       [1., 1., 1., 1.]])"
      ]
     },
     "execution_count": 33,
     "metadata": {},
     "output_type": "execute_result"
    }
   ],
   "source": [
    "a[[-3,-5,-7]]"
   ]
  },
  {
   "cell_type": "code",
   "execution_count": 34,
   "id": "de4284f9-a9c0-48d9-b26b-10433f74a997",
   "metadata": {},
   "outputs": [
    {
     "data": {
      "text/plain": [
       "array([[0.90515862, 0.52783337, 0.63862946],\n",
       "       [0.46139903, 0.57752078, 0.63614968]])"
      ]
     },
     "execution_count": 34,
     "metadata": {},
     "output_type": "execute_result"
    }
   ],
   "source": [
    "#random numbers\n",
    "np.random.rand(2,3)"
   ]
  },
  {
   "cell_type": "code",
   "execution_count": 35,
   "id": "1030c39a-be47-43e7-96c6-dbd95ab4fe93",
   "metadata": {},
   "outputs": [
    {
     "data": {
      "text/plain": [
       "array([[4, 4, 4],\n",
       "       [3, 2, 1]], dtype=int32)"
      ]
     },
     "execution_count": 35,
     "metadata": {},
     "output_type": "execute_result"
    }
   ],
   "source": [
    "np.random.randint(1,5,(2,3))"
   ]
  },
  {
   "cell_type": "raw",
   "id": "97d5b043-3ae4-4262-bd0b-d28b427ee230",
   "metadata": {},
   "source": [
    "a=np.arange(10)\n",
    "print(a)"
   ]
  },
  {
   "cell_type": "code",
   "execution_count": 37,
   "id": "ec777148-0607-4f93-9985-7680e00b1246",
   "metadata": {},
   "outputs": [
    {
     "name": "stdout",
     "output_type": "stream",
     "text": [
      "[0 1 2 3 4 5 6 7 8 9]\n"
     ]
    }
   ],
   "source": [
    "a=np.arange(10)\n",
    "print(a)"
   ]
  },
  {
   "cell_type": "code",
   "execution_count": 38,
   "id": "293b3e97-2b4b-4650-8767-bf0097c1bf09",
   "metadata": {},
   "outputs": [
    {
     "data": {
      "text/plain": [
       "array([0.        , 1.        , 1.41421356, 1.73205081, 2.        ,\n",
       "       2.23606798, 2.44948974, 2.64575131, 2.82842712, 3.        ])"
      ]
     },
     "execution_count": 38,
     "metadata": {},
     "output_type": "execute_result"
    }
   ],
   "source": [
    "np.sqrt(a)"
   ]
  },
  {
   "cell_type": "code",
   "execution_count": 40,
   "id": "69221eb3-dfd6-436b-bfcd-d7b4b6d112c2",
   "metadata": {},
   "outputs": [
    {
     "data": {
      "text/plain": [
       "array([1.00000000e+00, 2.71828183e+00, 7.38905610e+00, 2.00855369e+01,\n",
       "       5.45981500e+01, 1.48413159e+02, 4.03428793e+02, 1.09663316e+03,\n",
       "       2.98095799e+03, 8.10308393e+03])"
      ]
     },
     "execution_count": 40,
     "metadata": {},
     "output_type": "execute_result"
    }
   ],
   "source": [
    "np.exp(a)"
   ]
  },
  {
   "cell_type": "code",
   "execution_count": 41,
   "id": "5085dd9e-c371-4d37-a469-39a034a3b539",
   "metadata": {},
   "outputs": [
    {
     "data": {
      "text/plain": [
       "array([1, 2, 3, 4])"
      ]
     },
     "execution_count": 41,
     "metadata": {},
     "output_type": "execute_result"
    }
   ],
   "source": [
    "#unique values\n",
    "ints=np.array([3,3,3,2,2,1,1,4,4])\n",
    "np.unique(ints)\n"
   ]
  },
  {
   "cell_type": "code",
   "execution_count": 44,
   "id": "a5fcd0c1-461b-4303-b731-dead7329e43c",
   "metadata": {},
   "outputs": [
    {
     "data": {
      "text/plain": [
       "array([ True, False, False,  True,  True, False,  True])"
      ]
     },
     "execution_count": 44,
     "metadata": {},
     "output_type": "execute_result"
    }
   ],
   "source": [
    "v=np.array([6,0,0,3,2,5,6])\n",
    "np.isin(v,[2,3,6])\n"
   ]
  },
  {
   "cell_type": "code",
   "execution_count": 45,
   "id": "2614fc6b-e40d-40f3-beff-80412da64c3e",
   "metadata": {},
   "outputs": [
    {
     "name": "stdout",
     "output_type": "stream",
     "text": [
      "[False False  True  True False]\n"
     ]
    }
   ],
   "source": [
    "array1 = np.array([1, 2, 3, 4, 5])\n",
    "array2 = np.array([3, 4, 7, 8])\n",
    "\n",
    "result = np.isin(array1, array2)\n",
    "print(result)"
   ]
  },
  {
   "cell_type": "code",
   "execution_count": 46,
   "id": "149df0a6-1887-4cf3-9703-993f54e1e87d",
   "metadata": {},
   "outputs": [
    {
     "name": "stdout",
     "output_type": "stream",
     "text": [
      "[1 2 5 6]\n"
     ]
    }
   ],
   "source": [
    "array1 = np.array([1, 2, 3, 4])\n",
    "array2 = np.array([3, 4, 5, 6])\n",
    "\n",
    "result = np.setxor1d(array1, array2)\n",
    "print(result) "
   ]
  },
  {
   "cell_type": "code",
   "execution_count": 47,
   "id": "56db5bff-c85b-4f2f-ba07-bb33ee92eae4",
   "metadata": {},
   "outputs": [
    {
     "data": {
      "text/plain": [
       "array([[ 28,  64],\n",
       "       [ 67, 181]])"
      ]
     },
     "execution_count": 47,
     "metadata": {},
     "output_type": "execute_result"
    }
   ],
   "source": [
    "x=np.array([[1,2,3,],[4,5,6]])\n",
    "y=np.array([[6,23],[-1,7],[8,9]])\n",
    "x.dot(y)"
   ]
  },
  {
   "cell_type": "code",
   "execution_count": null,
   "id": "27ef7801-c67d-4a42-9600-87ba8fc6f0e9",
   "metadata": {},
   "outputs": [],
   "source": []
  }
 ],
 "metadata": {
  "kernelspec": {
   "display_name": "Python 3 (ipykernel)",
   "language": "python",
   "name": "python3"
  },
  "language_info": {
   "codemirror_mode": {
    "name": "ipython",
    "version": 3
   },
   "file_extension": ".py",
   "mimetype": "text/x-python",
   "name": "python",
   "nbconvert_exporter": "python",
   "pygments_lexer": "ipython3",
   "version": "3.12.7"
  }
 },
 "nbformat": 4,
 "nbformat_minor": 5
}
