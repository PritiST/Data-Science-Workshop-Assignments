{
 "cells": [
  {
   "cell_type": "code",
   "execution_count": 12,
   "id": "e7a9e0e3-3480-4b79-8e78-0b0b3a4cd9f4",
   "metadata": {},
   "outputs": [
    {
     "name": "stdout",
     "output_type": "stream",
     "text": [
      "[ 0  2  3  7  8 10 11]\n",
      "8\n"
     ]
    }
   ],
   "source": [
    "# Find the index of the 5th repetition of number 1 in x= np.array([1, 2, 1, 1, 3, 4, 3, 1, 1, 2, 1, 1, 2])\n",
    "import numpy as np\n",
    "x= np.array([1, 2, 1, 1, 3, 4, 3, 1, 1, 2, 1, 1, 2])\n",
    "z=np.where(x==1)[0]\n",
    "print(z)\n",
    "if  len(z)>=5:\n",
    "    print(z[4])\n",
    "else:\n",
    "    print(\"false\")"
   ]
  },
  {
   "cell_type": "code",
   "execution_count": 14,
   "id": "fbd32414-373d-4927-927f-c599fb2f052b",
   "metadata": {},
   "outputs": [
    {
     "name": "stdout",
     "output_type": "stream",
     "text": [
      "5.196152422706632\n"
     ]
    }
   ],
   "source": [
    "#Compute the Euclidean distance between two arrays a = np.array([1,2,3]) b = np.array([4,5,6])\n",
    "a = np.array([1, 2, 3])\n",
    "b = np.array([4, 5, 6])\n",
    "distance = np.sqrt(np.sum((a - b) ** 2))\n",
    "print(distance)"
   ]
  },
  {
   "cell_type": "code",
   "execution_count": 17,
   "id": "bffff573-2c7b-46f8-bdfb-74f1a92e92a7",
   "metadata": {},
   "outputs": [
    {
     "name": "stdout",
     "output_type": "stream",
     "text": [
      "[-1  2 -1  4 -1  6 -1  8 -1]\n"
     ]
    }
   ],
   "source": [
    "#Replace all odd numbers in the array with-1 without changing the array.\n",
    "arr = np.array([1, 2, 3, 4, 5, 6, 7, 8, 9])\n",
    "new_arr = np.where(arr % 2 != 0, -1, arr)\n",
    "print(new_arr)"
   ]
  },
  {
   "cell_type": "code",
   "execution_count": 18,
   "id": "9767fe9d-89cd-4fe9-85da-c0f42da073b9",
   "metadata": {},
   "outputs": [
    {
     "name": "stdout",
     "output_type": "stream",
     "text": [
      "[10 15 25 30 30]\n"
     ]
    }
   ],
   "source": [
    "# From the array a, replace all values greater than 30 to 30 and less than 10 to 10.\n",
    "a = np.array([5, 15, 25, 35, 45])\n",
    "new_a = np.clip(a, 10, 30)\n",
    "print(new_a)"
   ]
  },
  {
   "cell_type": "code",
   "execution_count": 20,
   "id": "085b048d-5a3b-45a5-955d-766df97ce0f2",
   "metadata": {},
   "outputs": [
    {
     "name": "stdout",
     "output_type": "stream",
     "text": [
      "[[12.4120376  15.18258623 17.96964078 15.67500589]\n",
      " [13.83758155 13.58821833 11.91065176 10.91969745]\n",
      " [13.56861941 14.90623018 10.53653705 10.99002308]\n",
      " [18.35674099 18.73462063 17.89207141 14.49884351]]\n",
      "[[0.22877305 0.56672381 0.90668797 0.62678903]\n",
      " [0.40266051 0.37224325 0.16761414 0.0467378 ]\n",
      " [0.36985258 0.53301398 0.         0.0553161 ]\n",
      " [0.95390634 1.         0.89722608 0.48332106]]\n"
     ]
    }
   ],
   "source": [
    "# Create a 4*4 matrix with entries from uniform distribution data in the interval 10 to 20. Normalize the matrix so that the minimum has a value of 0 and the maximum has a value of 1\n",
    "matrix = np.random.uniform(10, 20, (4, 4))\n",
    "print(matrix)\n",
    "normalized_matrix = (matrix - np.min(matrix)) / (np.max(matrix) - np.min(matrix))\n",
    "print(normalized_matrix)"
   ]
  },
  {
   "cell_type": "code",
   "execution_count": 21,
   "id": "8488e234-3573-4f26-9a6c-b8cdcae0fae5",
   "metadata": {},
   "outputs": [
    {
     "name": "stdout",
     "output_type": "stream",
     "text": [
      "5.5\n",
      "5.5\n",
      "2.8722813232690143\n"
     ]
    }
   ],
   "source": [
    "#Find the mean, median, and standard deviation of a 1-d array.\n",
    "arr = np.array([1, 2, 3, 4, 5, 6, 7, 8, 9, 10])\n",
    "mean = np.mean(arr)\n",
    "print(mean)\n",
    "median = np.median(arr)\n",
    "print(median)\n",
    "std_dev = np.std(arr)\n",
    "print(std_dev)"
   ]
  },
  {
   "cell_type": "code",
   "execution_count": 22,
   "id": "f5a580c2-21dc-4764-9be6-55704ae7c40b",
   "metadata": {},
   "outputs": [
    {
     "name": "stdout",
     "output_type": "stream",
     "text": [
      "[ 6  9 10]\n"
     ]
    }
   ],
   "source": [
    "#Get all items between 5 and 10 from a. Input: a= [2, 6, 1, 9, 10, 3, 27].\n",
    "a = np.array([2, 6, 1, 9, 10, 3, 27])\n",
    "result = a[(a >= 5) & (a <= 10)]\n",
    "print(result)"
   ]
  },
  {
   "cell_type": "code",
   "execution_count": 23,
   "id": "6e2e1b5c-fc7e-404d-91e3-488839bcaeba",
   "metadata": {},
   "outputs": [
    {
     "name": "stdout",
     "output_type": "stream",
     "text": [
      "[[1 2 3]\n",
      " [4 5 6]]\n"
     ]
    }
   ],
   "source": [
    "#Convert a 1D array to a 2D array with 2 rows.\n",
    "arr = np.array([1, 2, 3, 4, 5, 6])\n",
    "arr_2d = arr.reshape(2, -1)\n",
    "print(arr_2d)"
   ]
  },
  {
   "cell_type": "code",
   "execution_count": 25,
   "id": "81837d2a-0559-44fe-815c-e563041fb76c",
   "metadata": {},
   "outputs": [
    {
     "name": "stdout",
     "output_type": "stream",
     "text": [
      "[[ 1  2  3  4]\n",
      " [ 5  6  7  8]\n",
      " [ 9 10 11 12]\n",
      " [13 14 15 16]]\n",
      "[[ 5  6  7  8]\n",
      " [ 1  2  3  4]\n",
      " [ 9 10 11 12]\n",
      " [13 14 15 16]]\n",
      "[[ 6  5  7  8]\n",
      " [ 2  1  3  4]\n",
      " [10  9 11 12]\n",
      " [14 13 15 16]]\n"
     ]
    }
   ],
   "source": [
    "#Create a 2D array and swap the first two rows and two columns.\n",
    "# Create a 2D array\n",
    "arr = np.array([\n",
    "    [1, 2, 3, 4],\n",
    "    [5, 6, 7, 8],\n",
    "    [9, 10, 11, 12],\n",
    "    [13, 14, 15, 16]\n",
    "])\n",
    "print(arr)\n",
    "# Swap the first two rows\n",
    "arr[[0, 1]] = arr[[1, 0]]\n",
    "print(arr)\n",
    "# Swap the first two columns\n",
    "arr[:, [0, 1]] = arr[:, [1, 0]]\n",
    "print(arr)"
   ]
  },
  {
   "cell_type": "code",
   "execution_count": 27,
   "id": "03901abd-d60a-43c1-a7e9-b17ecc475fd9",
   "metadata": {},
   "outputs": [
    {
     "name": "stdout",
     "output_type": "stream",
     "text": [
      "Counter({np.int64(5): 7, np.int64(7): 6, np.int64(9): 5, np.int64(1): 5, np.int64(0): 5, np.int64(6): 4, np.int64(2): 3, np.int64(8): 2, np.int64(3): 2, np.int64(4): 1})\n",
      "7\n",
      "[np.int64(5)]\n"
     ]
    }
   ],
   "source": [
    "#Find the most frequent values in an array of positive integers. The original array is [6 9 5 1 7 5 1 0 1 5 5 0 8 9 0 7 0 7 6 5 1 1 9 5 3 8 7 9 6 3 4 5 9 7 2 7 0 2 2 6 ].\n",
    "import numpy as np\n",
    "from collections import Counter\n",
    "arr = np.array([6, 9, 5, 1, 7, 5, 1, 0, 1, 5, 5, 0, 8, 9, 0, 7, 0, 7, 6, 5, \n",
    "                1, 1, 9, 5, 3, 8, 7, 9, 6, 3, 4, 5, 9, 7, 2, 7, 0, 2, 2, 6])\n",
    "counts = Counter(arr)\n",
    "print(counts)\n",
    "max_freq = max(counts.values())\n",
    "print(max_freq)\n",
    "most_frequent = [key for key, value in counts.items() if value == max_freq]\n",
    "print(most_frequent)"
   ]
  },
  {
   "cell_type": "code",
   "execution_count": 28,
   "id": "475c42a0-26e3-40e6-971c-908b8b4c4ba0",
   "metadata": {},
   "outputs": [
    {
     "name": "stdout",
     "output_type": "stream",
     "text": [
      "[[-0.39809503  0.29936854  0.89272251  1.24660154]\n",
      " [-0.41061269  0.65555429  0.51862351  0.36415695]\n",
      " [-0.30608766  0.44244732 -0.46007476  1.15365748]\n",
      " [-0.04927789  0.83136568  1.59982661  0.85216489]]\n",
      "[[-0.39809503 -0.05562207  0.29331742  0.59866182]\n",
      " [-0.05562207  0.65555429  0.48053542  0.59776132]\n",
      " [ 0.29331742  0.48053542 -0.46007476  1.37674204]\n",
      " [ 0.59866182  0.59776132  1.37674204  0.85216489]]\n"
     ]
    }
   ],
   "source": [
    "# Create a symmetric matrix of order 4*4, whose items are taken from a standard normal distribution.\n",
    "random_matrix = np.random.randn(4, 4)\n",
    "print(random_matrix)\n",
    "symmetric_matrix = (random_matrix + random_matrix.T) / 2\n",
    "print(symmetric_matrix)"
   ]
  },
  {
   "cell_type": "code",
   "execution_count": 29,
   "id": "11b40753-6b82-4f14-a21f-2736d12ed433",
   "metadata": {},
   "outputs": [
    {
     "name": "stdout",
     "output_type": "stream",
     "text": [
      "[[1 2 3]\n",
      " [4 5 6]\n",
      " [7 8 9]]\n",
      "[[9 8 7]\n",
      " [6 5 4]\n",
      " [3 2 1]]\n",
      "[[-10  20 -10]\n",
      " [-10  20 -10]\n",
      " [-10  20 -10]]\n"
     ]
    }
   ],
   "source": [
    "# Compute the cross product of two 3*3 matrices\n",
    "A = np.array([[1, 2, 3], \n",
    "              [4, 5, 6], \n",
    "              [7, 8, 9]])\n",
    "print(A)\n",
    "B = np.array([[9, 8, 7], \n",
    "              [6, 5, 4], \n",
    "              [3, 2, 1]])\n",
    "print(B)\n",
    "cross_product = np.cross(A, B)\n",
    "print(cross_product)"
   ]
  },
  {
   "cell_type": "code",
   "execution_count": 30,
   "id": "28076990-beb4-4586-90e3-3eff211c8c81",
   "metadata": {},
   "outputs": [
    {
     "name": "stdout",
     "output_type": "stream",
     "text": [
      "[0 3 2 1 4]\n",
      "[[101 160]\n",
      " [104 160]\n",
      " [103 162]\n",
      " [102 165]\n",
      " [105 170]]\n"
     ]
    }
   ],
   "source": [
    "#Write a NumPy program to sort the student id with increasing height of the students from the given student id and height. Print the integer indices that describe the sort order by multiple columns and the sorted data.\n",
    "student_data = np.array([\n",
    "    [101, 160],  \n",
    "    [102, 165],\n",
    "    [103, 162],\n",
    "    [104, 160],\n",
    "    [105, 170]\n",
    "])\n",
    "student_ids = student_data[:, 0]\n",
    "heights = student_data[:, 1]\n",
    "sort_indices = np.lexsort((student_ids, heights))#sort by height\n",
    "print(sort_indices)\n",
    "sorted_data = student_data[sort_indices]\n",
    "print(sorted_data)\n",
    "\n"
   ]
  },
  {
   "cell_type": "code",
   "execution_count": 31,
   "id": "e804c34e-5443-4c3e-b5fb-43f3ada21dc8",
   "metadata": {},
   "outputs": [
    {
     "name": "stdout",
     "output_type": "stream",
     "text": [
      "[[ 6 12]\n",
      " [30 36]\n",
      " [54 60]]\n"
     ]
    }
   ],
   "source": [
    "# Return array of odd rows and even columns from below numpy array :\n",
    "x= np.array([[3, 6, 9, 12], \n",
    "             [15, 18, 21, 24], \n",
    "             [27, 30, 33, 36], \n",
    "             [39, 42, 45, 48],\n",
    "             [51, 54, 57, 60]])\n",
    "result = x[::2, 1::2]#rows(1st,3rd,5th index=0,2,4)columns(2,4 index=1,3)\n",
    "print(result)"
   ]
  },
  {
   "cell_type": "code",
   "execution_count": 32,
   "id": "d6384577-06f1-4e18-a457-7635e476af62",
   "metadata": {},
   "outputs": [
    {
     "name": "stdout",
     "output_type": "stream",
     "text": [
      "[ 6 15 24]\n",
      "[12 15 18]\n"
     ]
    }
   ],
   "source": [
    "#Calculate the sum of all rows and columns of a 2-D NumPy array.\n",
    "arr = np.array([\n",
    "    [1, 2, 3],\n",
    "    [4, 5, 6],\n",
    "    [7, 8, 9]\n",
    "])\n",
    "row_sums = np.sum(arr, axis=1)\n",
    "print(row_sums)\n",
    "column_sums = np.sum(arr, axis=0)\n",
    "print(column_sums)"
   ]
  },
  {
   "cell_type": "code",
   "execution_count": 33,
   "id": "47d17666-bb6c-4a63-b7c6-90b7ad97f754",
   "metadata": {},
   "outputs": [
    {
     "name": "stdout",
     "output_type": "stream",
     "text": [
      "[[1.0682181  1.04907195]\n",
      " [1.2346786  1.12453143]\n",
      " [1.47097268 1.20541263]\n",
      " [1.09964568 1.03849027]\n",
      " [0.9346283  0.78910742]]\n"
     ]
    }
   ],
   "source": [
    "# Write a code to multiply a 5x3 matrix by a 3x2 matrix and create a real matrix product.\n",
    "A = np.random.rand(5, 3)\n",
    "B = np.random.rand(3, 2)\n",
    "result = np.dot(A, B)\n",
    "print(result)"
   ]
  },
  {
   "cell_type": "code",
   "execution_count": 34,
   "id": "656f02f9-7df5-4b6a-aa76-eeb9c9ae4267",
   "metadata": {},
   "outputs": [
    {
     "name": "stdout",
     "output_type": "stream",
     "text": [
      "[2.+1.73205081j 2.-1.73205081j]\n"
     ]
    }
   ],
   "source": [
    "#Write a code to find the roots of the polynomials x2 − 4x + 7 = 0.\n",
    "coefficients = [1, -4, 7]\n",
    "roots = np.roots(coefficients)\n",
    "print(roots)"
   ]
  },
  {
   "cell_type": "code",
   "execution_count": 35,
   "id": "59c4650b-769a-48f3-b201-e4452866182e",
   "metadata": {},
   "outputs": [
    {
     "name": "stdout",
     "output_type": "stream",
     "text": [
      "[[0.67328412 0.75131149 0.37906107 0.1985814  0.61836286]\n",
      " [0.62226343 0.53812415 0.42819316 0.81267806 0.5640633 ]\n",
      " [0.28538281 0.97825491 0.74385816 0.2822946  0.34767255]\n",
      " [0.02968677 0.49095524 0.37790228 0.53366228 0.25635918]\n",
      " [0.95186166 0.31542533 0.31434577 0.44739183 0.94477295]]\n",
      "[[0.85883278 1.         0.32652405 0.         0.75946917]\n",
      " [0.50475394 0.28591757 0.         1.         0.35338225]\n",
      " [0.00443735 1.         0.66320386 0.         0.0939392 ]\n",
      " [0.         0.9152597  0.69093737 1.         0.4497687 ]\n",
      " [1.         0.00169338 0.         0.2086945  0.98888073]]\n"
     ]
    }
   ],
   "source": [
    "# Write a code to create a 5x5 array with random values and normalize it row-wise.\n",
    "arr = np.random.rand(5, 5)\n",
    "row_min = arr.min(axis=1).reshape(-1, 1)  # Minimum value of each row\n",
    "row_range = arr.max(axis=1).reshape(-1, 1) - row_min  # Range (max - min) for each row\n",
    "normalized_arr = (arr - row_min) / row_range  # Normalize each row\n",
    "print(arr)\n",
    "print(normalized_arr)"
   ]
  },
  {
   "cell_type": "code",
   "execution_count": 36,
   "id": "b4782ab9-d187-4c40-a785-c38041fefdfa",
   "metadata": {},
   "outputs": [
    {
     "name": "stdout",
     "output_type": "stream",
     "text": [
      "[[[0.81498627 0.84223161]\n",
      "  [0.18515899 0.94034286]\n",
      "  [0.91281119 0.21394062]\n",
      "  [0.85602873 0.68947043]\n",
      "  [0.52225192 0.75653144]\n",
      "  [0.27057956 0.5408713 ]\n",
      "  [0.95857978 0.78951997]\n",
      "  [0.66627856 0.05008769]\n",
      "  [0.27128595 0.84699705]]\n",
      "\n",
      " [[0.84126567 0.64311758]\n",
      "  [0.37097749 0.93359374]\n",
      "  [0.58007261 0.75197139]\n",
      "  [0.32662194 0.11350136]\n",
      "  [0.79311864 0.29005431]\n",
      "  [0.35965255 0.98612846]\n",
      "  [0.38038046 0.40090456]\n",
      "  [0.08125478 0.67259645]\n",
      "  [0.27060834 0.13289647]]\n",
      "\n",
      " [[0.79880757 0.84732184]\n",
      "  [0.93073429 0.08410987]\n",
      "  [0.85224452 0.78870875]\n",
      "  [0.94020798 0.53358415]\n",
      "  [0.01288484 0.52591265]\n",
      "  [0.57495435 0.52624613]\n",
      "  [0.07819696 0.33683471]\n",
      "  [0.45087011 0.88391668]\n",
      "  [0.42520118 0.91716018]]\n",
      "\n",
      " [[0.38922754 0.06241441]\n",
      "  [0.64294113 0.2682199 ]\n",
      "  [0.41197362 0.68876952]\n",
      "  [0.72869018 0.85496796]\n",
      "  [0.58803774 0.07163601]\n",
      "  [0.49230285 0.78109758]\n",
      "  [0.05639473 0.46770714]\n",
      "  [0.09139958 0.46809774]\n",
      "  [0.9801897  0.71896322]]\n",
      "\n",
      " [[0.69623106 0.97258202]\n",
      "  [0.07498909 0.5154732 ]\n",
      "  [0.19186018 0.80180249]\n",
      "  [0.30321115 0.85684424]\n",
      "  [0.82487032 0.65796268]\n",
      "  [0.38009136 0.93549118]\n",
      "  [0.14694816 0.72193623]\n",
      "  [0.1406014  0.38014953]\n",
      "  [0.31485094 0.16515377]]\n",
      "\n",
      " [[0.64494806 0.18951341]\n",
      "  [0.01942096 0.12220968]\n",
      "  [0.25256915 0.47733152]\n",
      "  [0.30454107 0.34405438]\n",
      "  [0.97600188 0.83263688]\n",
      "  [0.75264304 0.51235091]\n",
      "  [0.63497082 0.75671041]\n",
      "  [0.12326975 0.98475283]\n",
      "  [0.39344321 0.92113196]]\n",
      "\n",
      " [[0.36240519 0.91735021]\n",
      "  [0.10820811 0.6442532 ]\n",
      "  [0.67182006 0.14341835]\n",
      "  [0.647851   0.51967416]\n",
      "  [0.88069684 0.69101876]\n",
      "  [0.17716137 0.11350994]\n",
      "  [0.23018806 0.94614374]\n",
      "  [0.34113208 0.03796668]\n",
      "  [0.29055518 0.43031275]]\n",
      "\n",
      " [[0.20749953 0.63656197]\n",
      "  [0.88281834 0.20666161]\n",
      "  [0.39872724 0.28674903]\n",
      "  [0.84349981 0.66628002]\n",
      "  [0.56305068 0.66684237]\n",
      "  [0.38105984 0.46175262]\n",
      "  [0.98423228 0.04508748]\n",
      "  [0.33631518 0.52992565]\n",
      "  [0.32043486 0.83069486]]\n",
      "\n",
      " [[0.54643732 0.83264057]\n",
      "  [0.25753038 0.89115154]\n",
      "  [0.10317584 0.12910459]\n",
      "  [0.96628472 0.9221128 ]\n",
      "  [0.10834444 0.11244537]\n",
      "  [0.48799744 0.17304002]\n",
      "  [0.77442448 0.57805303]\n",
      "  [0.08088783 0.78260223]\n",
      "  [0.09160377 0.06498217]]]\n",
      "[[[0.85224452 0.78870875]\n",
      "  [0.94020798 0.53358415]\n",
      "  [0.01288484 0.52591265]\n",
      "  [0.57495435 0.52624613]\n",
      "  [0.07819696 0.33683471]]\n",
      "\n",
      " [[0.41197362 0.68876952]\n",
      "  [0.72869018 0.85496796]\n",
      "  [0.58803774 0.07163601]\n",
      "  [0.49230285 0.78109758]\n",
      "  [0.05639473 0.46770714]]\n",
      "\n",
      " [[0.19186018 0.80180249]\n",
      "  [0.30321115 0.85684424]\n",
      "  [0.82487032 0.65796268]\n",
      "  [0.38009136 0.93549118]\n",
      "  [0.14694816 0.72193623]]\n",
      "\n",
      " [[0.25256915 0.47733152]\n",
      "  [0.30454107 0.34405438]\n",
      "  [0.97600188 0.83263688]\n",
      "  [0.75264304 0.51235091]\n",
      "  [0.63497082 0.75671041]]\n",
      "\n",
      " [[0.67182006 0.14341835]\n",
      "  [0.647851   0.51967416]\n",
      "  [0.88069684 0.69101876]\n",
      "  [0.17716137 0.11350994]\n",
      "  [0.23018806 0.94614374]]]\n"
     ]
    }
   ],
   "source": [
    "#Write a NumPy program to create a 9*9*2 array with random values and extract any array of shape (5,5,2) from the said array.\n",
    "arr = np.random.rand(9, 9, 2)\n",
    "print(arr)\n",
    "# Extract a sub-array of shape (5, 5, 2) from the original array\n",
    "# For example, extract from indices 2 to 6 (inclusive for rows and columns)\n",
    "sub_array = arr[2:7, 2:7, :]\n",
    "print(sub_array)"
   ]
  },
  {
   "cell_type": "code",
   "execution_count": 37,
   "id": "aa7a4be8-b9b4-4759-985c-e60739b5579a",
   "metadata": {},
   "outputs": [
    {
     "name": "stdout",
     "output_type": "stream",
     "text": [
      "[[0.29655907 0.34348956 0.83806766 0.01954696]\n",
      " [0.49664886 0.69418273 0.08182499 0.44633287]\n",
      " [0.26515849 0.66246529 0.83625789 0.49684558]\n",
      " [0.24237101 0.89669305 0.88473107 0.37006212]]\n",
      "[[0.24237101 0.34348956 0.08182499 0.01954696]\n",
      " [0.26515849 0.66246529 0.83625789 0.37006212]\n",
      " [0.29655907 0.69418273 0.83806766 0.44633287]\n",
      " [0.49664886 0.89669305 0.88473107 0.49684558]]\n"
     ]
    }
   ],
   "source": [
    "# Write a code to create a 4*4 array with random values and sort each column\n",
    "arr = np.random.rand(4, 4)\n",
    "print(arr)\n",
    "sorted_arr = np.sort(arr, axis=0)\n",
    "print(sorted_arr)"
   ]
  },
  {
   "cell_type": "code",
   "execution_count": null,
   "id": "c55e5ef8-03d7-4652-98c5-911efd074040",
   "metadata": {},
   "outputs": [],
   "source": [
    "#In a cricket match, a batsman scores any one of {1,2,3,4,6,0}. When he scores 0, it will be considered as ”OUT”. If he will face 50 balls maximum, then find the score that he will make before getting”OUT”. Draw the plot of the run scored by the batsman.\n"
   ]
  }
 ],
 "metadata": {
  "kernelspec": {
   "display_name": "Python 3 (ipykernel)",
   "language": "python",
   "name": "python3"
  },
  "language_info": {
   "codemirror_mode": {
    "name": "ipython",
    "version": 3
   },
   "file_extension": ".py",
   "mimetype": "text/x-python",
   "name": "python",
   "nbconvert_exporter": "python",
   "pygments_lexer": "ipython3",
   "version": "3.12.7"
  }
 },
 "nbformat": 4,
 "nbformat_minor": 5
}
