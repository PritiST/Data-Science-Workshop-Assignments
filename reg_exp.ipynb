{
 "cells": [
  {
   "cell_type": "code",
   "execution_count": 1,
   "id": "68f666f9-8e7c-4dd4-bb48-ebfb5e9dcd25",
   "metadata": {},
   "outputs": [],
   "source": [
    "import re"
   ]
  },
  {
   "cell_type": "code",
   "execution_count": 2,
   "id": "f906c7d9-de3c-4023-89c0-7e15bd700118",
   "metadata": {},
   "outputs": [
    {
     "data": {
      "text/plain": [
       "<re.Match object; span=(10, 15), match='India'>"
      ]
     },
     "execution_count": 2,
     "metadata": {},
     "output_type": "execute_result"
    }
   ],
   "source": [
    "string=\"i love my India\"\n",
    "match=re.search('India',string)\n",
    "match"
   ]
  },
  {
   "cell_type": "code",
   "execution_count": 3,
   "id": "cefc929c-60c1-4121-9de0-5bc19084f670",
   "metadata": {},
   "outputs": [
    {
     "name": "stdout",
     "output_type": "stream",
     "text": [
      "India\n"
     ]
    }
   ],
   "source": [
    "print(match.group())"
   ]
  },
  {
   "cell_type": "code",
   "execution_count": 4,
   "id": "efe7cbf7-7e56-4c22-9d63-166c21958c85",
   "metadata": {},
   "outputs": [
    {
     "name": "stdout",
     "output_type": "stream",
     "text": [
      "10\n"
     ]
    }
   ],
   "source": [
    "print(match.start())"
   ]
  },
  {
   "cell_type": "code",
   "execution_count": 5,
   "id": "733c79f6-079f-440a-9deb-8c6447539ef6",
   "metadata": {},
   "outputs": [
    {
     "name": "stdout",
     "output_type": "stream",
     "text": [
      "15\n"
     ]
    }
   ],
   "source": [
    "print(match.end())"
   ]
  },
  {
   "cell_type": "code",
   "execution_count": 6,
   "id": "a31c2593-c97b-4606-8220-276d9585221c",
   "metadata": {},
   "outputs": [
    {
     "name": "stdout",
     "output_type": "stream",
     "text": [
      "(10, 15)\n"
     ]
    }
   ],
   "source": [
    "print(match.span())"
   ]
  },
  {
   "cell_type": "code",
   "execution_count": 9,
   "id": "9c2b2d85-63c3-4a96-aa2f-f6f2b901d34a",
   "metadata": {},
   "outputs": [
    {
     "name": "stdout",
     "output_type": "stream",
     "text": [
      "re.compile('India')\n"
     ]
    }
   ],
   "source": [
    "print(match.re)"
   ]
  },
  {
   "cell_type": "code",
   "execution_count": 10,
   "id": "b2234be0-dafc-486c-a61a-cbe9903df710",
   "metadata": {},
   "outputs": [
    {
     "name": "stdout",
     "output_type": "stream",
     "text": [
      "i love my India\n"
     ]
    }
   ],
   "source": [
    "print(match.string)"
   ]
  },
  {
   "cell_type": "code",
   "execution_count": 20,
   "id": "38bd20a4-1ece-4824-a7c2-364a4971d7b9",
   "metadata": {},
   "outputs": [],
   "source": [
    "string = \"hello 12 hii 89. Hosdy 39\"\n",
    "pattern = r'\\d+'\n",
    "result = re.findall(pattern, string)"
   ]
  },
  {
   "cell_type": "code",
   "execution_count": 21,
   "id": "1df06ea6-4522-479c-99ec-71ef619e6384",
   "metadata": {},
   "outputs": [
    {
     "name": "stdout",
     "output_type": "stream",
     "text": [
      "['12', '89', '39']\n"
     ]
    }
   ],
   "source": [
    "print (result)"
   ]
  },
  {
   "cell_type": "code",
   "execution_count": 25,
   "id": "dcf0913d-a5e2-4b17-ac26-781939af02b2",
   "metadata": {},
   "outputs": [],
   "source": [
    "string = \"Twelve: 12 Eighty nine: 89.\"\n",
    "pattern = r'\\d+'\n",
    "result = re.split(pattern, string)"
   ]
  },
  {
   "cell_type": "code",
   "execution_count": 26,
   "id": "c56983e9-db49-4afd-9aa8-afa416663e2e",
   "metadata": {},
   "outputs": [
    {
     "name": "stdout",
     "output_type": "stream",
     "text": [
      "['Twelve: ', ' Eighty nine: ', '.']\n"
     ]
    }
   ],
   "source": [
    "print(result)"
   ]
  },
  {
   "cell_type": "code",
   "execution_count": 28,
   "id": "f524858a-db28-4943-bfb5-41e0952e1eea",
   "metadata": {},
   "outputs": [
    {
     "name": "stdout",
     "output_type": "stream",
     "text": [
      "abc12de23f456\n"
     ]
    }
   ],
   "source": [
    "string = \"abc 12 de 23      f45 6\"\n",
    "pattern  = r'\\s+'\n",
    "replace = ''\n",
    "new_string = re.sub(pattern, replace, string)\n",
    "print(new_string)"
   ]
  },
  {
   "cell_type": "code",
   "execution_count": 33,
   "id": "369e5d2e-2b29-4c52-9320-6ad21b5cb017",
   "metadata": {},
   "outputs": [
    {
     "name": "stdout",
     "output_type": "stream",
     "text": [
      "<re.Match object; span=(0, 3), match='123'>\n",
      "None\n"
     ]
    }
   ],
   "source": [
    "result = re.match(r'\\d+', \"123abc\")\n",
    "print(result)\n",
    "result = re.match(r'\\d+', \"abc123\")\n",
    "print(result)\n"
   ]
  },
  {
   "cell_type": "code",
   "execution_count": 35,
   "id": "45643d6a-6c62-4407-93af-0755a15f7ee5",
   "metadata": {},
   "outputs": [
    {
     "name": "stdout",
     "output_type": "stream",
     "text": [
      "<re.Match object; span=(3, 6), match='123'>\n"
     ]
    }
   ],
   "source": [
    "result = re.search(r'\\d+', \"abc123\")\n",
    "print(result)\n"
   ]
  },
  {
   "cell_type": "code",
   "execution_count": 38,
   "id": "73d0068b-4cdc-4d4f-9498-d4feb5d42d99",
   "metadata": {},
   "outputs": [
    {
     "name": "stdout",
     "output_type": "stream",
     "text": [
      "They ate five apples and five oranges\n"
     ]
    }
   ],
   "source": [
    "#Q1: Replace all occurrences of 5 with five for the given string.\n",
    "string = \"They ate 5 apples and 5 oranges\"\n",
    "new_string = re.sub(\"5\", \"five\", string)\n",
    "print(new_string)"
   ]
  },
  {
   "cell_type": "code",
   "execution_count": 45,
   "id": "33cf46e4-4a8f-4ff6-acfd-032c5a406779",
   "metadata": {},
   "outputs": [
    {
     "name": "stdout",
     "output_type": "stream",
     "text": [
      "bred brown spread credible brown.\n"
     ]
    }
   ],
   "source": [
    "#For the given input string, change only the whole word ’red’ from red to brown.\n",
    "words = \"bred red spread credible red.\"\n",
    "new_string = re.sub(r\"\\bred\\b\", \"brown\", words)\n",
    "print(new_string)"
   ]
  },
  {
   "cell_type": "code",
   "execution_count": 51,
   "id": "2aa95f51-e268-46ab-b580-1bfb79022ab1",
   "metadata": {},
   "outputs": [
    {
     "name": "stdout",
     "output_type": "stream",
     "text": [
      "Course codes found:  ['CS101', 'MA202', 'CS202', 'AB100']\n"
     ]
    }
   ],
   "source": [
    "#Write a python function to find all course codes that match the pattern of two letters followed by three numbers within a given string\n",
    "def find_course_codes(text):\n",
    "    pattern = r'\\b[A-Z]{2}\\d{3}\\b'\n",
    "    course_codes  = re.findall(pattern, text)\n",
    "    return course_codes\n",
    "\n",
    "text = \"Here are some course codes: CS101, MA202, P303. Note that CS202 and AB100 are valid, but not CS1010 or MA20.\"\n",
    "code = find_course_codes(text)\n",
    "print(\"Course codes found: \", code)\n"
   ]
  },
  {
   "cell_type": "markdown",
   "id": "e4e9b13a-81e0-44a5-82c2-dcc44d6310dc",
   "metadata": {},
   "source": []
  },
  {
   "cell_type": "code",
   "execution_count": 53,
   "id": "0369efc1-c465-43b0-9205-ba4b3ffcd0d4",
   "metadata": {},
   "outputs": [
    {
     "name": "stdout",
     "output_type": "stream",
     "text": [
      "Email addresses found:  ['-avani-lekhaara@soa.ac.in', '-nitesh.kumar@gmail.com', '-sumit_antil@gmail.com', '-HarvinderSingh@domain.org', '-Praveen+Kumar@rediff.mail']\n"
     ]
    }
   ],
   "source": [
    " #Write a python function to find all possible email address within a given string.\n",
    "def find_email(text):\n",
    "    # Corrected regex for email matching\n",
    "    pattern = r'[a-zA-Z0-9._%+-]+@[a-zA-Z0-9.-]+\\.[a-zA-Z]{2,}'\n",
    "    emailids = re.findall(pattern, text)\n",
    "    return emailids\n",
    "text = \"Here are some email id: -avani-lekhaara@soa.ac.in -nitesh.kumar@gmail.com -sumit_antil@gmail.com -HarvinderSingh@domain.org -Dharambir@domain -Praveen+Kumar@rediff.mail\"\n",
    "email = find_email(text)\n",
    "\n",
    "print(\"Email addresses found: \", email)\n",
    "    "
   ]
  },
  {
   "cell_type": "code",
   "execution_count": 57,
   "id": "db3abe3c-029a-4942-91de-ca9cd9efc840",
   "metadata": {},
   "outputs": [
    {
     "name": "stdout",
     "output_type": "stream",
     "text": [
      "['Manoranjan Parhi', 'Ashis Pati', 'Meenakshi Padhi', 'Modi Patri', 'Mohan Pahi']\n"
     ]
    }
   ],
   "source": [
    "name = \"Manoranjan Parhi, Ashis Pati, Debsashi Pandit, Meenakshi Padhi, Modi Patri, Naveen Panda, Mohan Pahi\"\n",
    "pattern = r'\\b[\\w*\\s]*P\\w*i\\b'\n",
    "matching_names = re.findall(pattern, name)\n",
    "print(matching_names)"
   ]
  },
  {
   "cell_type": "code",
   "execution_count": 58,
   "id": "5c8ff6fc-dd4d-4e26-a9ff-1e5b578e79cd",
   "metadata": {},
   "outputs": [
    {
     "name": "stdout",
     "output_type": "stream",
     "text": [
      "Matching names: ['Ashis Pati', 'Mohan Pahi']\n"
     ]
    }
   ],
   "source": [
    "#Write a Python program to find all students’ names whose surname\n",
    " #starts with ’P’ and ends with ’i’, and of a maximum of 4 characters\n",
    " #using the Python regular expression.\n",
    "\n",
    "names = \"Manoranjan Parhi, Ashis Pati, Debsashi Pandit, Meenakshi Padhi, Modi Patri, Naveen Panda, Mohan Pahi\"\n",
    "pattern = r'\\b[\\w]+\\sP\\w{0,2}i\\b'  # Matches a last name starting with 'P', max 4 characters, and ending with 'i'\n",
    "matching_names = re.findall(pattern, names)\n",
    "print(\"Matching names:\", matching_names)\n"
   ]
  },
  {
   "cell_type": "code",
   "execution_count": 59,
   "id": "e8979ec2-236d-4c26-a017-b8f79dbe7e85",
   "metadata": {},
   "outputs": [
    {
     "name": "stdout",
     "output_type": "stream",
     "text": [
      "Maximum numeric value: 564\n"
     ]
    }
   ],
   "source": [
    "#Given an alphanumeric string, extract the maximum numeric value\n",
    " #from that string. Alphabets will only be in the lower case.\n",
    " #Input : 100klh564abc365bg Output : 564\n",
    "\n",
    "def extract_max_number(text):\n",
    "    # Find all numbers in the string\n",
    "    numbers = list(map(int, re.findall(r'\\d+', text)))\n",
    "    # Return the maximum value\n",
    "    return max(numbers) if numbers else None\n",
    "\n",
    "text = \"100klh564abc365bg\"\n",
    "max_number = extract_max_number(text)\n",
    "print(\"Maximum numeric value:\", max_number)"
   ]
  },
  {
   "cell_type": "code",
   "execution_count": 60,
   "id": "37ed4a87-9d4c-4b5f-967e-a7520b85d563",
   "metadata": {},
   "outputs": [
    {
     "name": "stdout",
     "output_type": "stream",
     "text": [
      "Matched numbers: ['123-456-7890', '987-654-3210']\n"
     ]
    }
   ],
   "source": [
    "#Match a string of three numbers, a hyphen, three more numbers,\n",
    " #another hyphen, and four numbers.\n",
    "\n",
    "def match_phone_number(text):\n",
    "    pattern = r'\\b\\d{3}-\\d{3}-\\d{4}\\b'  # Matches 'XXX-XXX-XXXX' format\n",
    "    matches = re.findall(pattern, text)\n",
    "    return matches\n",
    "\n",
    "text = \"My numbers are 123-456-7890 and 987-654-3210.\"\n",
    "matched_numbers = match_phone_number(text)\n",
    "print(\"Matched numbers:\", matched_numbers)"
   ]
  },
  {
   "cell_type": "code",
   "execution_count": 61,
   "id": "7598cc01-e19e-4fde-bf49-6f649257af55",
   "metadata": {},
   "outputs": [
    {
     "name": "stdout",
     "output_type": "stream",
     "text": [
      "Password is strong.\n"
     ]
    }
   ],
   "source": [
    "#Write a Python program to check if a password is strong. Strong\n",
    "# passwords contain capital, small alphabets, numbers, and special\n",
    "# character , %, +,- at least once.\n",
    "\n",
    "def is_strong_password(password):\n",
    "    # Check for at least one uppercase letter\n",
    "    has_upper = bool(re.search(r'[A-Z]', password))\n",
    "    # Check for at least one lowercase letter\n",
    "    has_lower = bool(re.search(r'[a-z]', password))\n",
    "    # Check for at least one digit\n",
    "    has_digit = bool(re.search(r'\\d', password))\n",
    "    # Check for at least one special character: %, +, -\n",
    "    has_special = bool(re.search(r'[%,\\+\\-]', password))\n",
    "    # Ensure password meets all criteria\n",
    "    return has_upper and has_lower and has_digit and has_special\n",
    "\n",
    "password = \"Aa1+pass\"\n",
    "if is_strong_password(password):\n",
    "    print(\"Password is strong.\")\n",
    "else:\n",
    "    print(\"Password is weak.\")"
   ]
  },
  {
   "cell_type": "code",
   "execution_count": null,
   "id": "ea9535ad-bfae-4c9c-b449-bf09f5e3e86f",
   "metadata": {},
   "outputs": [],
   "source": []
  },
  {
   "cell_type": "code",
   "execution_count": null,
   "id": "90627bbc-2916-430d-916a-ba1f3056d862",
   "metadata": {},
   "outputs": [],
   "source": []
  },
  {
   "cell_type": "code",
   "execution_count": null,
   "id": "87285ac5-60f8-4943-ba2f-6721a131d201",
   "metadata": {},
   "outputs": [],
   "source": []
  }
 ],
 "metadata": {
  "kernelspec": {
   "display_name": "Python 3 (ipykernel)",
   "language": "python",
   "name": "python3"
  },
  "language_info": {
   "codemirror_mode": {
    "name": "ipython",
    "version": 3
   },
   "file_extension": ".py",
   "mimetype": "text/x-python",
   "name": "python",
   "nbconvert_exporter": "python",
   "pygments_lexer": "ipython3",
   "version": "3.12.7"
  }
 },
 "nbformat": 4,
 "nbformat_minor": 5
}
